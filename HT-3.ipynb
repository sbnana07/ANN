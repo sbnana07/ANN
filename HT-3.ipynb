{
 "cells": [
  {
   "cell_type": "markdown",
   "id": "d899eac7",
   "metadata": {
    "jp-MarkdownHeadingCollapsed": true
   },
   "source": [
    "# Perceptron\n",
    "\n",
    "<h2 style=\"color:blue\"> -32467 Harshal Tak </h2>\n",
    "-------------------------------------------------------------------------------------------------------------------------------------------------------"
   ]
  },
  {
   "cell_type": "markdown",
   "id": "b5ba129c",
   "metadata": {},
   "source": [
    "#  Write a Python Program using Perceptron Neural Network to recognise even and odd numbers. \n",
    "Given numbers are in ASCII form 0 to 9"
   ]
  },
  {
   "cell_type": "code",
   "execution_count": 1,
   "id": "745314d2",
   "metadata": {},
   "outputs": [],
   "source": [
    "import numpy as np"
   ]
  },
  {
   "cell_type": "code",
   "execution_count": 2,
   "id": "301dbdf1",
   "metadata": {},
   "outputs": [],
   "source": [
    "def activation(output):\n",
    "    if output >= 0:\n",
    "        return 1\n",
    "    else:\n",
    "        return 0\n",
    "    \n",
    "def predict(inputs,weights,bias):\n",
    "    predictions = []\n",
    "    for i in range(len(inputs)):\n",
    "        wsum = np.dot(inputs[i],weights) + bias\n",
    "        predictions.append(activation(wsum))\n",
    "    return predictions"
   ]
  },
  {
   "cell_type": "code",
   "execution_count": 3,
   "id": "d225bc85",
   "metadata": {},
   "outputs": [],
   "source": [
    "def training(inputs):\n",
    "    epochs = 1000\n",
    "    bias = 1\n",
    "    n = len(inputs)\n",
    "    binary = len(inputs[0])\n",
    "    expected_output = np.array([1,0,1,0,1,0,1,0,1,0])\n",
    "    weights = np.random.rand(binary)\n",
    "    wsum = 0\n",
    "    learn_rate = 0.1\n",
    "    for epoch in range(epochs):\n",
    "        for j in range(n):\n",
    "            # Calculate the weighted sum\n",
    "            wsum = np.dot(inputs[j],weights) + bias\n",
    "            #output = wsum + bias\n",
    "            predicted = activation(wsum)\n",
    "            \n",
    "            # Calculate error\n",
    "            error = expected_output[j] - predicted\n",
    "            # Change weights and bias\n",
    "            weights = weights + learn_rate*(error)*inputs[j]\n",
    "            bias = bias + learn_rate*error\n",
    "    return weights,bias"
   ]
  },
  {
   "cell_type": "code",
   "execution_count": 4,
   "id": "5fd2d184",
   "metadata": {},
   "outputs": [],
   "source": [
    "inputs = np.array([[0,0,1,1,0,0,0,0],\n",
    "                  [0,0,1,1,0,0,0,1],\n",
    "                  [0,0,1,1,0,0,1,0],\n",
    "                  [0,0,1,1,0,0,1,1],\n",
    "                  [0,0,1,1,0,1,0,0],\n",
    "                  [0,0,1,1,0,1,0,1],\n",
    "                  [0,0,1,1,0,1,1,0],\n",
    "                  [0,0,1,1,0,1,1,1],\n",
    "                  [0,0,1,1,1,0,0,0],\n",
    "                  [0,0,1,1,1,0,0,1]])"
   ]
  },
  {
   "cell_type": "code",
   "execution_count": 5,
   "id": "64c5462f",
   "metadata": {},
   "outputs": [
    {
     "name": "stdout",
     "output_type": "stream",
     "text": [
      "[ 0.94013383  0.96721151 -0.21964686 -0.00946433  0.39791136 -0.09023662\n",
      "  0.24841828 -0.72143396]\n",
      "0.40000000000000013\n"
     ]
    }
   ],
   "source": [
    "nweights,nbias = training(inputs)\n",
    "print(nweights)\n",
    "print(nbias)"
   ]
  },
  {
   "cell_type": "code",
   "execution_count": 6,
   "id": "83294ed2",
   "metadata": {},
   "outputs": [
    {
     "name": "stdout",
     "output_type": "stream",
     "text": [
      "[1, 0, 1, 0, 1, 0, 1, 0, 1, 0]\n"
     ]
    }
   ],
   "source": [
    "print(predict(inputs,nweights,nbias))"
   ]
  },
  {
   "cell_type": "code",
   "execution_count": null,
   "id": "6d7ccc37",
   "metadata": {},
   "outputs": [],
   "source": []
  }
 ],
 "metadata": {
  "kernelspec": {
   "display_name": "Python 3 (ipykernel)",
   "language": "python",
   "name": "python3"
  },
  "language_info": {
   "codemirror_mode": {
    "name": "ipython",
    "version": 3
   },
   "file_extension": ".py",
   "mimetype": "text/x-python",
   "name": "python",
   "nbconvert_exporter": "python",
   "pygments_lexer": "ipython3",
   "version": "3.11.7"
  }
 },
 "nbformat": 4,
 "nbformat_minor": 5
}
